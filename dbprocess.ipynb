{
 "cells": [
  {
   "cell_type": "code",
   "execution_count": 7,
   "id": "12f5122d",
   "metadata": {},
   "outputs": [
    {
     "data": {
      "text/plain": [
       "{'1': {'neutral': 0.9947872757911682,\n",
       "  'happy': 0.0010997181525453925,\n",
       "  'sad': 1.5218918633763678e-05,\n",
       "  'angry': 0.001849232823587954,\n",
       "  'fearful': 1.1516370932440623e-06,\n",
       "  'disgusted': 2.880786951209302e-07,\n",
       "  'surprised': 0.002247181721031666},\n",
       " '2': {'neutral': 0.9977328777313232,\n",
       "  'happy': 0.0002483166172169149,\n",
       "  'sad': 1.8997659481101437e-06,\n",
       "  'angry': 6.671952723991126e-05,\n",
       "  'fearful': 1.0540571082628958e-07,\n",
       "  'disgusted': 5.953431525540509e-08,\n",
       "  'surprised': 0.0019497891189530492},\n",
       " '3': {'neutral': 0.9977328777313232,\n",
       "  'happy': 0.0002483166172169149,\n",
       "  'sad': 1.8997659481101437e-06,\n",
       "  'angry': 6.671952723991126e-05,\n",
       "  'fearful': 1.0540571082628958e-07,\n",
       "  'disgusted': 5.953431525540509e-08,\n",
       "  'surprised': 0.0019497891189530492}}"
      ]
     },
     "execution_count": 7,
     "metadata": {},
     "output_type": "execute_result"
    }
   ],
   "source": [
    "import numpy as np\n",
    "import pandas as pd\n",
    "import seaborn as sns\n",
    "import matplotlib as plt\n",
    "import json\n",
    "\n",
    "\n",
    "df = \n",
    "\n",
    "df"
   ]
  },
  {
   "cell_type": "code",
   "execution_count": null,
   "id": "61132b35",
   "metadata": {},
   "outputs": [],
   "source": []
  }
 ],
 "metadata": {
  "kernelspec": {
   "display_name": "Python 3 (ipykernel)",
   "language": "python",
   "name": "python3"
  },
  "language_info": {
   "codemirror_mode": {
    "name": "ipython",
    "version": 3
   },
   "file_extension": ".py",
   "mimetype": "text/x-python",
   "name": "python",
   "nbconvert_exporter": "python",
   "pygments_lexer": "ipython3",
   "version": "3.9.13"
  }
 },
 "nbformat": 4,
 "nbformat_minor": 5
}
