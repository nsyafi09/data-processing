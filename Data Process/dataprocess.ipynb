{
 "cells": [
  {
   "cell_type": "code",
   "execution_count": 188,
   "metadata": {},
   "outputs": [],
   "source": [
    "import pandas as pd\n",
    "import json\n",
    "import pickle\n",
    "import matplotlib.pyplot as plt\n",
    "import numpy as np"
   ]
  },
  {
   "cell_type": "code",
   "execution_count": 649,
   "metadata": {},
   "outputs": [],
   "source": [
    "# f = open('data1.json')"
   ]
  },
  {
   "cell_type": "code",
   "execution_count": 651,
   "metadata": {},
   "outputs": [],
   "source": [
    "f = open('jp_data/data2.json')\n",
    "text = []\n",
    "for val in f:\n",
    "    text.append(val)"
   ]
  },
  {
   "cell_type": "code",
   "execution_count": 652,
   "metadata": {},
   "outputs": [],
   "source": [
    "df = {\"frames\": [],\n",
    "      \"neutral\": [],\n",
    "      \"happy\": [],\n",
    "      \"sad\": [],\n",
    "      \"angry\":[],\n",
    "      \"fearful\":[],\n",
    "      \"disgusted\":[],\n",
    "      \"surprised\": []}\n",
    "for idx, values in enumerate(text[1:-1]):\n",
    "#     values.replace(\"frames\", )\n",
    "    if values[0] != \",\":\n",
    "        res = json.loads(values[9:])\n",
    "    else:\n",
    "        res = json.loads(values[10:])\n",
    "    df[\"frames\"].append(idx)\n",
    "    for key, val in res.items():\n",
    "        df[key].append(val)\n",
    "        \n",
    "#     res = json.loads(values)"
   ]
  },
  {
   "cell_type": "code",
   "execution_count": 653,
   "metadata": {},
   "outputs": [],
   "source": [
    "dataframe = pd.DataFrame(data=df)"
   ]
  },
  {
   "cell_type": "code",
   "execution_count": 654,
   "metadata": {},
   "outputs": [],
   "source": [
    "dataframe.to_csv('jp6.csv', index = False)"
   ]
  },
  {
   "cell_type": "code",
   "execution_count": 655,
   "metadata": {},
   "outputs": [
    {
     "data": {
      "text/plain": [
       "dict"
      ]
     },
     "execution_count": 655,
     "metadata": {},
     "output_type": "execute_result"
    }
   ],
   "source": [
    "type(res)"
   ]
  },
  {
   "cell_type": "code",
   "execution_count": 656,
   "metadata": {},
   "outputs": [],
   "source": [
    "df2 = pd.read_csv('jp6.csv')"
   ]
  },
  {
   "cell_type": "code",
   "execution_count": 657,
   "metadata": {},
   "outputs": [
    {
     "data": {
      "text/html": [
       "<div>\n",
       "<style scoped>\n",
       "    .dataframe tbody tr th:only-of-type {\n",
       "        vertical-align: middle;\n",
       "    }\n",
       "\n",
       "    .dataframe tbody tr th {\n",
       "        vertical-align: top;\n",
       "    }\n",
       "\n",
       "    .dataframe thead th {\n",
       "        text-align: right;\n",
       "    }\n",
       "</style>\n",
       "<table border=\"1\" class=\"dataframe\">\n",
       "  <thead>\n",
       "    <tr style=\"text-align: right;\">\n",
       "      <th></th>\n",
       "      <th>frames</th>\n",
       "      <th>neutral</th>\n",
       "      <th>happy</th>\n",
       "      <th>sad</th>\n",
       "      <th>angry</th>\n",
       "      <th>fearful</th>\n",
       "      <th>disgusted</th>\n",
       "      <th>surprised</th>\n",
       "    </tr>\n",
       "  </thead>\n",
       "  <tbody>\n",
       "    <tr>\n",
       "      <th>0</th>\n",
       "      <td>0</td>\n",
       "      <td>0.999150</td>\n",
       "      <td>0.000040</td>\n",
       "      <td>0.000022</td>\n",
       "      <td>0.000039</td>\n",
       "      <td>6.435205e-08</td>\n",
       "      <td>1.242318e-06</td>\n",
       "      <td>0.000746</td>\n",
       "    </tr>\n",
       "    <tr>\n",
       "      <th>1</th>\n",
       "      <td>1</td>\n",
       "      <td>0.809289</td>\n",
       "      <td>0.000004</td>\n",
       "      <td>0.000028</td>\n",
       "      <td>0.000350</td>\n",
       "      <td>4.679242e-05</td>\n",
       "      <td>5.074616e-08</td>\n",
       "      <td>0.190281</td>\n",
       "    </tr>\n",
       "    <tr>\n",
       "      <th>2</th>\n",
       "      <td>2</td>\n",
       "      <td>0.806471</td>\n",
       "      <td>0.000003</td>\n",
       "      <td>0.000595</td>\n",
       "      <td>0.000099</td>\n",
       "      <td>1.908270e-04</td>\n",
       "      <td>2.964035e-08</td>\n",
       "      <td>0.192642</td>\n",
       "    </tr>\n",
       "    <tr>\n",
       "      <th>3</th>\n",
       "      <td>3</td>\n",
       "      <td>0.830701</td>\n",
       "      <td>0.000003</td>\n",
       "      <td>0.001090</td>\n",
       "      <td>0.000168</td>\n",
       "      <td>1.437649e-04</td>\n",
       "      <td>1.989523e-07</td>\n",
       "      <td>0.167895</td>\n",
       "    </tr>\n",
       "    <tr>\n",
       "      <th>4</th>\n",
       "      <td>4</td>\n",
       "      <td>0.985293</td>\n",
       "      <td>0.000002</td>\n",
       "      <td>0.000800</td>\n",
       "      <td>0.000128</td>\n",
       "      <td>5.219141e-06</td>\n",
       "      <td>2.974678e-08</td>\n",
       "      <td>0.013771</td>\n",
       "    </tr>\n",
       "    <tr>\n",
       "      <th>...</th>\n",
       "      <td>...</td>\n",
       "      <td>...</td>\n",
       "      <td>...</td>\n",
       "      <td>...</td>\n",
       "      <td>...</td>\n",
       "      <td>...</td>\n",
       "      <td>...</td>\n",
       "      <td>...</td>\n",
       "    </tr>\n",
       "    <tr>\n",
       "      <th>1054</th>\n",
       "      <td>1054</td>\n",
       "      <td>0.895944</td>\n",
       "      <td>0.001016</td>\n",
       "      <td>0.000938</td>\n",
       "      <td>0.007212</td>\n",
       "      <td>3.065660e-04</td>\n",
       "      <td>3.078129e-04</td>\n",
       "      <td>0.094274</td>\n",
       "    </tr>\n",
       "    <tr>\n",
       "      <th>1055</th>\n",
       "      <td>1055</td>\n",
       "      <td>0.905639</td>\n",
       "      <td>0.000407</td>\n",
       "      <td>0.000582</td>\n",
       "      <td>0.004423</td>\n",
       "      <td>3.082899e-04</td>\n",
       "      <td>7.933552e-05</td>\n",
       "      <td>0.088561</td>\n",
       "    </tr>\n",
       "    <tr>\n",
       "      <th>1056</th>\n",
       "      <td>1056</td>\n",
       "      <td>0.940457</td>\n",
       "      <td>0.000388</td>\n",
       "      <td>0.000132</td>\n",
       "      <td>0.002157</td>\n",
       "      <td>6.960053e-05</td>\n",
       "      <td>1.052701e-04</td>\n",
       "      <td>0.056691</td>\n",
       "    </tr>\n",
       "    <tr>\n",
       "      <th>1057</th>\n",
       "      <td>1057</td>\n",
       "      <td>0.912810</td>\n",
       "      <td>0.000628</td>\n",
       "      <td>0.000213</td>\n",
       "      <td>0.003449</td>\n",
       "      <td>1.674762e-04</td>\n",
       "      <td>8.795873e-05</td>\n",
       "      <td>0.082645</td>\n",
       "    </tr>\n",
       "    <tr>\n",
       "      <th>1058</th>\n",
       "      <td>1058</td>\n",
       "      <td>0.920680</td>\n",
       "      <td>0.001128</td>\n",
       "      <td>0.000741</td>\n",
       "      <td>0.005657</td>\n",
       "      <td>2.857283e-04</td>\n",
       "      <td>6.056188e-04</td>\n",
       "      <td>0.070903</td>\n",
       "    </tr>\n",
       "  </tbody>\n",
       "</table>\n",
       "<p>1059 rows × 8 columns</p>\n",
       "</div>"
      ],
      "text/plain": [
       "      frames   neutral     happy       sad     angry       fearful  \\\n",
       "0          0  0.999150  0.000040  0.000022  0.000039  6.435205e-08   \n",
       "1          1  0.809289  0.000004  0.000028  0.000350  4.679242e-05   \n",
       "2          2  0.806471  0.000003  0.000595  0.000099  1.908270e-04   \n",
       "3          3  0.830701  0.000003  0.001090  0.000168  1.437649e-04   \n",
       "4          4  0.985293  0.000002  0.000800  0.000128  5.219141e-06   \n",
       "...      ...       ...       ...       ...       ...           ...   \n",
       "1054    1054  0.895944  0.001016  0.000938  0.007212  3.065660e-04   \n",
       "1055    1055  0.905639  0.000407  0.000582  0.004423  3.082899e-04   \n",
       "1056    1056  0.940457  0.000388  0.000132  0.002157  6.960053e-05   \n",
       "1057    1057  0.912810  0.000628  0.000213  0.003449  1.674762e-04   \n",
       "1058    1058  0.920680  0.001128  0.000741  0.005657  2.857283e-04   \n",
       "\n",
       "         disgusted  surprised  \n",
       "0     1.242318e-06   0.000746  \n",
       "1     5.074616e-08   0.190281  \n",
       "2     2.964035e-08   0.192642  \n",
       "3     1.989523e-07   0.167895  \n",
       "4     2.974678e-08   0.013771  \n",
       "...            ...        ...  \n",
       "1054  3.078129e-04   0.094274  \n",
       "1055  7.933552e-05   0.088561  \n",
       "1056  1.052701e-04   0.056691  \n",
       "1057  8.795873e-05   0.082645  \n",
       "1058  6.056188e-04   0.070903  \n",
       "\n",
       "[1059 rows x 8 columns]"
      ]
     },
     "execution_count": 657,
     "metadata": {},
     "output_type": "execute_result"
    }
   ],
   "source": [
    "# test = df2[['happy', 'sad', 'angry', 'fearful', 'disgusted', 'surprised']].values\n",
    "df2"
   ]
  },
  {
   "cell_type": "code",
   "execution_count": 658,
   "metadata": {},
   "outputs": [],
   "source": [
    "# result = np.sum(test, axis = 1) / 6"
   ]
  },
  {
   "cell_type": "code",
   "execution_count": 659,
   "metadata": {},
   "outputs": [],
   "source": [
    "# len(df2.sad.values)"
   ]
  },
  {
   "cell_type": "code",
   "execution_count": 660,
   "metadata": {},
   "outputs": [],
   "source": [
    "# df2.sad.values[5545:5545+60]"
   ]
  },
  {
   "cell_type": "code",
   "execution_count": 661,
   "metadata": {
    "scrolled": false
   },
   "outputs": [
    {
     "data": {
      "text/plain": [
       "<matplotlib.collections.PathCollection at 0x18baada03d0>"
      ]
     },
     "execution_count": 661,
     "metadata": {},
     "output_type": "execute_result"
    },
    {
     "data": {
      "image/png": "[encoded data removed]",
      "text/plain": [
       "<Figure size 1080x1080 with 1 Axes>"
      ]
     },
     "metadata": {
      "needs_background": "light"
     },
     "output_type": "display_data"
    }
   ],
   "source": [
    "# sliding = 2500\n",
    "# win = []\n",
    "# sad = []\n",
    "# angry = []\n",
    "# fearful = []\n",
    "# disgusted = []\n",
    "# for window in range(len(result) - sliding + 1):\n",
    "#     win.append(window)\n",
    "#     sad.append(np.sum(df2.sad.values[window:window+sliding]) / sliding)\n",
    "#     angry.append(np.sum(df2.angry.values[window:window+sliding]) / sliding)\n",
    "#     fearful.append(np.sum(df2.fearful.values[window:window+sliding]) / sliding)\n",
    "#     disgusted.append(np.sum(df2.disgusted.values[window:window+sliding]) / sliding)\n",
    "    \n",
    "# plt.figure(figsize = [15, 15])\n",
    "# #     plt.scatter(window, df2.neutral.values)\n",
    "# for i in range(len(sad)):\n",
    "#     if sad[i] == 0 or angry[i] == 0 or fearful[i] == 0 or disgusted[i] == 0:\n",
    "#         pass\n",
    "#     else:\n",
    "#         plt.scatter(win[i], sad[i], c = 'red')\n",
    "#         plt.scatter(win[i], angry[i], c = 'red')\n",
    "#         plt.scatter(win[i], fearful[i], c = 'red')\n",
    "#         plt.scatter(win[i], disgusted[i], c = 'red')\n",
    "# for window in range(len(result) - 60 + 1):\n",
    "\n",
    "plt.figure(figsize = [15, 15])\n",
    "# for window in range(len(result) + 1):\n",
    "# plt.scatter(df2.frames.values, df2.neutral.values)\n",
    "# if (df2.frames.values != 0): \n",
    "plt.scatter(df2.frames.values[np.where(df2.sad.values>=0.00)], df2.sad.values[np.where(df2.sad.values>=0.00)], c = 'red')\n",
    "plt.scatter(df2.frames.values[np.where(df2.angry.values>=0.00)], df2.angry.values[np.where(df2.angry.values>=0.00)], c = 'red')\n",
    "plt.scatter(df2.frames.values[np.where(df2.fearful.values>=0.00)], df2.fearful.values[np.where(df2.fearful.values>=0.00)], c = 'red')\n",
    "plt.scatter(df2.frames.values[np.where(df2.disgusted.values>=0.00)], df2.disgusted.values[np.where(df2.disgusted.values>=0.00)], c = 'red')\n",
    "plt.scatter(df2.frames.values[np.where(df2.surprised.values>=0.00)], df2.surprised.values[np.where(df2.surprised.values>=0.00)], c = 'red')"
   ]
  },
  {
   "cell_type": "code",
   "execution_count": 662,
   "metadata": {},
   "outputs": [
    {
     "data": {
      "text/plain": [
       "(array([981.,  41.,  19.,   7.,   3.,   2.,   0.,   2.,   1.,   3.]),\n",
       " array([5.47195850e-06, 9.65717687e-02, 1.93138066e-01, 2.89704362e-01,\n",
       "        3.86270659e-01, 4.82836956e-01, 5.79403253e-01, 6.75969549e-01,\n",
       "        7.72535846e-01, 8.69102143e-01, 9.65668440e-01]),\n",
       " <BarContainer object of 10 artists>)"
      ]
     },
     "execution_count": 662,
     "metadata": {},
     "output_type": "execute_result"
    },
    {
     "data": {
      "image/png": "[encoded data removed]",
      "text/plain": [
       "<Figure size 1080x1080 with 1 Axes>"
      ]
     },
     "metadata": {
      "needs_background": "light"
     },
     "output_type": "display_data"
    }
   ],
   "source": [
    "plt.figure(figsize = [15, 15])\n",
    "plt.hist(df2.neutral.values)\n",
    "plt.hist(df2.sad.values)\n",
    "plt.hist(df2.angry.values)\n",
    "plt.hist(df2.fearful.values)\n",
    "plt.hist(df2.disgusted.values)\n",
    "plt.hist(df2.surprised.values)"
   ]
  },
  {
   "cell_type": "code",
   "execution_count": 663,
   "metadata": {},
   "outputs": [],
   "source": [
    "neut = df2.neutral.values\n"
   ]
  },
  {
   "cell_type": "code",
   "execution_count": 664,
   "metadata": {},
   "outputs": [
    {
     "data": {
      "text/plain": [
       "982"
      ]
     },
     "execution_count": 664,
     "metadata": {},
     "output_type": "execute_result"
    }
   ],
   "source": [
    "len(neut[np.where(neut>=0.85)])"
   ]
  },
  {
   "cell_type": "code",
   "execution_count": 665,
   "metadata": {},
   "outputs": [
    {
     "data": {
      "text/plain": [
       "77"
      ]
     },
     "execution_count": 665,
     "metadata": {},
     "output_type": "execute_result"
    }
   ],
   "source": [
    "len(neut[np.where(neut<0.85)])"
   ]
  },
  {
   "cell_type": "code",
   "execution_count": 666,
   "metadata": {},
   "outputs": [
    {
     "data": {
      "text/plain": [
       "<matplotlib.collections.PathCollection at 0x18bb0e0fd30>"
      ]
     },
     "execution_count": 666,
     "metadata": {},
     "output_type": "execute_result"
    },
    {
     "data": {
      "image/png": "[encoded data removed]",
      "text/plain": [
       "<Figure size 432x288 with 1 Axes>"
      ]
     },
     "metadata": {
      "needs_background": "light"
     },
     "output_type": "display_data"
    }
   ],
   "source": [
    "plt.scatter(np.where(neut<0.85)[0], neut[np.where(neut<0.85)])"
   ]
  },
  {
   "cell_type": "code",
   "execution_count": 667,
   "metadata": {},
   "outputs": [
    {
     "data": {
      "text/plain": [
       "1059"
      ]
     },
     "execution_count": 667,
     "metadata": {},
     "output_type": "execute_result"
    }
   ],
   "source": [
    "len(neut)"
   ]
  },
  {
   "cell_type": "code",
   "execution_count": null,
   "metadata": {},
   "outputs": [],
   "source": []
  },
  {
   "cell_type": "code",
   "execution_count": null,
   "metadata": {},
   "outputs": [],
   "source": []
  }
 ],
 "metadata": {
  "kernelspec": {
   "display_name": "Python 3",
   "language": "python",
   "name": "python3"
  },
  "language_info": {
   "codemirror_mode": {
    "name": "ipython",
    "version": 3
   },
   "file_extension": ".py",
   "mimetype": "text/x-python",
   "name": "python",
   "nbconvert_exporter": "python",
   "pygments_lexer": "ipython3",
   "version": "3.8.5"
  }
 },
 "nbformat": 4,
 "nbformat_minor": 4
}
